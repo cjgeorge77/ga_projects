{
 "cells": [
  {
   "cell_type": "markdown",
   "metadata": {},
   "source": [
    "\n",
    "# Final Project: Campaign Response Model\n",
    "\n",
    "Author: George Cherukara Joggy"
   ]
  },
  {
   "cell_type": "markdown",
   "metadata": {},
   "source": [
    "## 1. Problem Statement\n",
    "#### Use the  campaign response from a targeted group of existing consumers of a financial card issuing organization to apply on the rest of the consumer pool to predict the profile of consumers that will respond to similair campaigns"
   ]
  },
  {
   "cell_type": "markdown",
   "metadata": {},
   "source": [
    "## 2. Python Code"
   ]
  },
  {
   "cell_type": "markdown",
   "metadata": {},
   "source": [
    "### 1. Data Preparation"
   ]
  },
  {
   "cell_type": "markdown",
   "metadata": {},
   "source": [
    "#### import all necessary libraries"
   ]
  },
  {
   "cell_type": "code",
   "execution_count": 138,
   "metadata": {},
   "outputs": [],
   "source": [
    "import pandas as pd\n",
    "import numpy as np\n",
    "from sklearn.model_selection import train_test_split\n",
    "import matplotlib.pyplot as plt\n",
    "\n",
    "%matplotlib inline"
   ]
  },
  {
   "cell_type": "markdown",
   "metadata": {},
   "source": [
    "#### import the promotional dataset and save it to a dataframe"
   ]
  },
  {
   "cell_type": "code",
   "execution_count": 139,
   "metadata": {},
   "outputs": [
    {
     "data": {
      "text/html": [
       "<div>\n",
       "<style scoped>\n",
       "    .dataframe tbody tr th:only-of-type {\n",
       "        vertical-align: middle;\n",
       "    }\n",
       "\n",
       "    .dataframe tbody tr th {\n",
       "        vertical-align: top;\n",
       "    }\n",
       "\n",
       "    .dataframe thead th {\n",
       "        text-align: right;\n",
       "    }\n",
       "</style>\n",
       "<table border=\"1\" class=\"dataframe\">\n",
       "  <thead>\n",
       "    <tr style=\"text-align: right;\">\n",
       "      <th></th>\n",
       "      <th>customer_id</th>\n",
       "      <th>resp</th>\n",
       "      <th>card_tenure</th>\n",
       "      <th>risk_score</th>\n",
       "      <th>num_promoted</th>\n",
       "      <th>avg_bal</th>\n",
       "      <th>geo_group</th>\n",
       "      <th>res_type</th>\n",
       "    </tr>\n",
       "  </thead>\n",
       "  <tbody>\n",
       "    <tr>\n",
       "      <th>0</th>\n",
       "      <td>SB0000024239</td>\n",
       "      <td>0</td>\n",
       "      <td>143.0</td>\n",
       "      <td>520</td>\n",
       "      <td>0</td>\n",
       "      <td>4108.0</td>\n",
       "      <td>E</td>\n",
       "      <td>TO</td>\n",
       "    </tr>\n",
       "    <tr>\n",
       "      <th>1</th>\n",
       "      <td>SB0000103256</td>\n",
       "      <td>0</td>\n",
       "      <td>91.0</td>\n",
       "      <td>694</td>\n",
       "      <td>0</td>\n",
       "      <td>3268.0</td>\n",
       "      <td>N</td>\n",
       "      <td>CO</td>\n",
       "    </tr>\n",
       "    <tr>\n",
       "      <th>2</th>\n",
       "      <td>SB0000115357</td>\n",
       "      <td>0</td>\n",
       "      <td>139.0</td>\n",
       "      <td>520</td>\n",
       "      <td>0</td>\n",
       "      <td>3785.0</td>\n",
       "      <td>E</td>\n",
       "      <td>NaN</td>\n",
       "    </tr>\n",
       "    <tr>\n",
       "      <th>3</th>\n",
       "      <td>SB0000060380</td>\n",
       "      <td>0</td>\n",
       "      <td>147.0</td>\n",
       "      <td>676</td>\n",
       "      <td>0</td>\n",
       "      <td>3402.0</td>\n",
       "      <td>E</td>\n",
       "      <td>CO</td>\n",
       "    </tr>\n",
       "    <tr>\n",
       "      <th>4</th>\n",
       "      <td>SB0000138548</td>\n",
       "      <td>0</td>\n",
       "      <td>222.0</td>\n",
       "      <td>717</td>\n",
       "      <td>0</td>\n",
       "      <td>3580.0</td>\n",
       "      <td>SE</td>\n",
       "      <td>CO</td>\n",
       "    </tr>\n",
       "  </tbody>\n",
       "</table>\n",
       "</div>"
      ],
      "text/plain": [
       "    customer_id  resp  card_tenure  risk_score  num_promoted  avg_bal  \\\n",
       "0  SB0000024239     0        143.0         520             0   4108.0   \n",
       "1  SB0000103256     0         91.0         694             0   3268.0   \n",
       "2  SB0000115357     0        139.0         520             0   3785.0   \n",
       "3  SB0000060380     0        147.0         676             0   3402.0   \n",
       "4  SB0000138548     0        222.0         717             0   3580.0   \n",
       "\n",
       "  geo_group res_type  \n",
       "0         E       TO  \n",
       "1         N       CO  \n",
       "2         E      NaN  \n",
       "3         E       CO  \n",
       "4        SE       CO  "
      ]
     },
     "execution_count": 139,
     "metadata": {},
     "output_type": "execute_result"
    }
   ],
   "source": [
    "promoted = pd.read_csv('./datasets/promoted.csv')\n",
    "promoted.head()\n",
    "#cars_training.shape"
   ]
  },
  {
   "cell_type": "markdown",
   "metadata": {},
   "source": [
    "### 2. Data cleanup and EDA"
   ]
  },
  {
   "cell_type": "code",
   "execution_count": 140,
   "metadata": {},
   "outputs": [],
   "source": [
    "#Define a EDA function to include the following details:  \n",
    "#total nulls, index, data types, shape, summary statistics, and the number of unique values for each column\n",
    "def eda_analysis(data):\n",
    "    print(data.head())\n",
    "    print(data.describe(include='all'))\n",
    "    print(data.isnull().sum())\n",
    "    print(data.info())\n",
    "\n"
   ]
  },
  {
   "cell_type": "code",
   "execution_count": 141,
   "metadata": {},
   "outputs": [
    {
     "name": "stdout",
     "output_type": "stream",
     "text": [
      "    customer_id  resp  card_tenure  risk_score  num_promoted  avg_bal  \\\n",
      "0  SB0000024239     0        143.0         520             0   4108.0   \n",
      "1  SB0000103256     0         91.0         694             0   3268.0   \n",
      "2  SB0000115357     0        139.0         520             0   3785.0   \n",
      "3  SB0000060380     0        147.0         676             0   3402.0   \n",
      "4  SB0000138548     0        222.0         717             0   3580.0   \n",
      "\n",
      "  geo_group res_type  \n",
      "0         E       TO  \n",
      "1         N       CO  \n",
      "2         E      NaN  \n",
      "3         E       CO  \n",
      "4        SE       CO  \n",
      "         customer_id          resp   card_tenure    risk_score  num_promoted  \\\n",
      "count          25000  25000.000000  24515.000000  25000.000000  25000.000000   \n",
      "unique         25000           NaN           NaN           NaN           NaN   \n",
      "top     SB0000014636           NaN           NaN           NaN           NaN   \n",
      "freq               1           NaN           NaN           NaN           NaN   \n",
      "mean             NaN      0.068640    139.491617    655.091680      0.007000   \n",
      "std              NaN      0.252846     66.998010     81.315116      0.083374   \n",
      "min              NaN      0.000000      0.000000    520.000000      0.000000   \n",
      "25%              NaN      0.000000     95.000000    599.000000      0.000000   \n",
      "50%              NaN      0.000000    135.000000    677.000000      0.000000   \n",
      "75%              NaN      0.000000    179.000000    719.000000      0.000000   \n",
      "max              NaN      1.000000    641.000000    760.000000      1.000000   \n",
      "\n",
      "             avg_bal geo_group res_type  \n",
      "count   24286.000000     24491    24016  \n",
      "unique           NaN         4        5  \n",
      "top              NaN         E       CO  \n",
      "freq             NaN     10939     9400  \n",
      "mean     3065.417195       NaN      NaN  \n",
      "std       999.102540       NaN      NaN  \n",
      "min      -132.000000       NaN      NaN  \n",
      "25%      2666.000000       NaN      NaN  \n",
      "50%      3238.000000       NaN      NaN  \n",
      "75%      3632.000000       NaN      NaN  \n",
      "max     10725.000000       NaN      NaN  \n",
      "customer_id       0\n",
      "resp              0\n",
      "card_tenure     485\n",
      "risk_score        0\n",
      "num_promoted      0\n",
      "avg_bal         714\n",
      "geo_group       509\n",
      "res_type        984\n",
      "dtype: int64\n",
      "<class 'pandas.core.frame.DataFrame'>\n",
      "RangeIndex: 25000 entries, 0 to 24999\n",
      "Data columns (total 8 columns):\n",
      "customer_id     25000 non-null object\n",
      "resp            25000 non-null int64\n",
      "card_tenure     24515 non-null float64\n",
      "risk_score      25000 non-null int64\n",
      "num_promoted    25000 non-null int64\n",
      "avg_bal         24286 non-null float64\n",
      "geo_group       24491 non-null object\n",
      "res_type        24016 non-null object\n",
      "dtypes: float64(2), int64(3), object(3)\n",
      "memory usage: 1.5+ MB\n",
      "None\n"
     ]
    }
   ],
   "source": [
    "eda_analysis(promoted)"
   ]
  },
  {
   "cell_type": "markdown",
   "metadata": {},
   "source": [
    "#### Fill the null values from float variables with median values"
   ]
  },
  {
   "cell_type": "code",
   "execution_count": 142,
   "metadata": {},
   "outputs": [],
   "source": [
    "promoted[\"avg_bal\"].fillna(promoted[\"avg_bal\"].median(), inplace=True)\n",
    "promoted[\"card_tenure\"].fillna(promoted[\"card_tenure\"].median(), inplace=True)\n",
    "promoted.dropna(axis=1,inplace=True)"
   ]
  },
  {
   "cell_type": "code",
   "execution_count": 143,
   "metadata": {},
   "outputs": [
    {
     "data": {
      "text/plain": [
       "Index(['customer_id', 'resp', 'card_tenure', 'risk_score', 'num_promoted',\n",
       "       'avg_bal', 'geo_group', 'res_type'],\n",
       "      dtype='object')"
      ]
     },
     "execution_count": 143,
     "metadata": {},
     "output_type": "execute_result"
    }
   ],
   "source": [
    "#promoted.geo_group.value_counts()\n",
    "promoted.columns"
   ]
  },
  {
   "cell_type": "markdown",
   "metadata": {},
   "source": [
    "#### convert the categorical variables to dummy variables"
   ]
  },
  {
   "cell_type": "code",
   "execution_count": 144,
   "metadata": {},
   "outputs": [
    {
     "data": {
      "text/plain": [
       "Index(['customer_id', 'resp', 'card_tenure', 'risk_score', 'num_promoted',\n",
       "       'avg_bal', 'geo_group_N', 'geo_group_SE', 'geo_group_W', 'res_type_CO',\n",
       "       'res_type_RE', 'res_type_SI', 'res_type_TO'],\n",
       "      dtype='object')"
      ]
     },
     "execution_count": 144,
     "metadata": {},
     "output_type": "execute_result"
    }
   ],
   "source": [
    "#cat_col = ['geo_group','res_type']\n",
    "#promoted_nw = pd.get_dummies(promoted,columns=cat_col,drop_first=True)\n",
    "#promoted_nw.columns"
   ]
  },
  {
   "cell_type": "code",
   "execution_count": null,
   "metadata": {},
   "outputs": [],
   "source": [
    "#promoted_nw.head()\n",
    "#promoted_nw.isnull().sum()\n",
    "#promoted_nw.describe()"
   ]
  },
  {
   "cell_type": "markdown",
   "metadata": {},
   "source": [
    "#### understand the class balance of resp variable"
   ]
  },
  {
   "cell_type": "code",
   "execution_count": 146,
   "metadata": {},
   "outputs": [
    {
     "data": {
      "text/plain": [
       "0    23284\n",
       "1     1716\n",
       "Name: resp, dtype: int64"
      ]
     },
     "execution_count": 146,
     "metadata": {},
     "output_type": "execute_result"
    }
   ],
   "source": [
    "#understand class variance of the target variable\n",
    "promoted_nw.resp.value_counts()"
   ]
  },
  {
   "cell_type": "markdown",
   "metadata": {},
   "source": [
    "resp class balance is 0(93.2%) and 1(6.8%)"
   ]
  },
  {
   "cell_type": "markdown",
   "metadata": {},
   "source": [
    "#### plot the variables to understand correlation"
   ]
  },
  {
   "cell_type": "markdown",
   "metadata": {},
   "source": [
    "#### fix the class imbalance of resp using SMOTEtomek"
   ]
  },
  {
   "cell_type": "code",
   "execution_count": 153,
   "metadata": {},
   "outputs": [],
   "source": [
    "feature_col_nw = ['card_tenure', 'risk_score', 'avg_bal', 'geo_group_SE']\n",
    "#X.columns\n",
    "target_col = ['resp']"
   ]
  },
  {
   "cell_type": "code",
   "execution_count": 154,
   "metadata": {},
   "outputs": [
    {
     "name": "stdout",
     "output_type": "stream",
     "text": [
      "[(0, 22101), (1, 22101)]\n"
     ]
    }
   ],
   "source": [
    "from imblearn.combine import SMOTETomek\n",
    "sm = SMOTETomek()\n",
    "X_resampled, y_resampled = sm.fit_sample(X, y)\n",
    "from collections import Counter\n",
    "print(sorted(Counter(y_resampled).items()))\n",
    "\n",
    "X_nw = pd.DataFrame(X_resampled, columns=feature_col_nw)\n",
    "y_nw = pd.DataFrame(y_resampled, columns=target_col)"
   ]
  },
  {
   "cell_type": "markdown",
   "metadata": {},
   "source": [
    "### 3. Model training and fit"
   ]
  },
  {
   "cell_type": "markdown",
   "metadata": {},
   "source": [
    "#### do  scaling using StandardScaler"
   ]
  },
  {
   "cell_type": "code",
   "execution_count": 155,
   "metadata": {},
   "outputs": [],
   "source": [
    "from sklearn.preprocessing import StandardScaler\n",
    "scaler = StandardScaler()\n",
    "X_trn = scaler.fit_transform(X_nw)"
   ]
  },
  {
   "cell_type": "markdown",
   "metadata": {},
   "source": [
    "#### perform train test split"
   ]
  },
  {
   "cell_type": "code",
   "execution_count": 156,
   "metadata": {},
   "outputs": [],
   "source": [
    "X_train, X_test, y_train, y_test=train_test_split(X_trn,y_nw, test_size=0.7, random_state=7)"
   ]
  },
  {
   "cell_type": "markdown",
   "metadata": {},
   "source": [
    "#### 3.1 Run a Logistic Regression model"
   ]
  },
  {
   "cell_type": "code",
   "execution_count": 157,
   "metadata": {},
   "outputs": [
    {
     "name": "stdout",
     "output_type": "stream",
     "text": [
      "Accuracy of logistic regression classifier on test set: 0.62\n"
     ]
    },
    {
     "name": "stderr",
     "output_type": "stream",
     "text": [
      "/Users/admin/anaconda3/lib/python3.6/site-packages/sklearn/utils/validation.py:578: DataConversionWarning: A column-vector y was passed when a 1d array was expected. Please change the shape of y to (n_samples, ), for example using ravel().\n",
      "  y = column_or_1d(y, warn=True)\n"
     ]
    }
   ],
   "source": [
    "from sklearn.linear_model import LogisticRegression\n",
    "from sklearn import metrics\n",
    "logreg = LogisticRegression(penalty='l1')\n",
    "logreg.fit(X_train, y_train)\n",
    "y_pred = logreg.predict(X_test)\n",
    "print('Accuracy of logistic regression classifier on test set: {:.2f}'.format(logreg.score(X_test, y_test)))"
   ]
  },
  {
   "cell_type": "code",
   "execution_count": 158,
   "metadata": {},
   "outputs": [
    {
     "name": "stdout",
     "output_type": "stream",
     "text": [
      "[[ 8798  6648]\n",
      " [ 4998 10498]]\n"
     ]
    }
   ],
   "source": [
    "from sklearn import metrics\n",
    "cm = metrics.confusion_matrix(y_test, y_pred)\n",
    "print(cm)"
   ]
  },
  {
   "cell_type": "code",
   "execution_count": 159,
   "metadata": {},
   "outputs": [
    {
     "data": {
      "text/plain": [
       "0.623531229521725"
      ]
     },
     "execution_count": 159,
     "metadata": {},
     "output_type": "execute_result"
    }
   ],
   "source": [
    "metrics.roc_auc_score(y_test,y_pred)"
   ]
  },
  {
   "cell_type": "code",
   "execution_count": 160,
   "metadata": {},
   "outputs": [
    {
     "name": "stdout",
     "output_type": "stream",
     "text": [
      "             precision    recall  f1-score   support\n",
      "\n",
      "          0       0.64      0.57      0.60     15446\n",
      "          1       0.61      0.68      0.64     15496\n",
      "\n",
      "avg / total       0.62      0.62      0.62     30942\n",
      "\n"
     ]
    }
   ],
   "source": [
    "print(metrics.classification_report(y_test,y_pred))"
   ]
  },
  {
   "cell_type": "code",
   "execution_count": 161,
   "metadata": {},
   "outputs": [
    {
     "name": "stderr",
     "output_type": "stream",
     "text": [
      "/Users/admin/anaconda3/lib/python3.6/site-packages/ipykernel_launcher.py:3: DataConversionWarning: A column-vector y was passed when a 1d array was expected. Please change the shape of y to (n_samples,), for example using ravel().\n",
      "  This is separate from the ipykernel package so we can avoid doing imports until\n"
     ]
    },
    {
     "name": "stdout",
     "output_type": "stream",
     "text": [
      "             precision    recall  f1-score   support\n",
      "\n",
      "          0       0.83      0.88      0.86     15446\n",
      "          1       0.87      0.83      0.85     15496\n",
      "\n",
      "avg / total       0.85      0.85      0.85     30942\n",
      "\n"
     ]
    }
   ],
   "source": [
    "from sklearn.ensemble import RandomForestClassifier as RF\n",
    "clf = RF()\n",
    "clf.fit(X_train,y_train)\n",
    "y_pred = clf.predict(X_test)\n",
    "print(metrics.classification_report(y_test,y_pred))"
   ]
  },
  {
   "cell_type": "code",
   "execution_count": 162,
   "metadata": {},
   "outputs": [
    {
     "name": "stdout",
     "output_type": "stream",
     "text": [
      "0.8515286665373926\n",
      "[[13545  1901]\n",
      " [ 2693 12803]]\n"
     ]
    }
   ],
   "source": [
    "print(metrics.accuracy_score(y_test,y_pred))\n",
    "cm = metrics.confusion_matrix(y_test, y_pred)\n",
    "print(cm)"
   ]
  },
  {
   "cell_type": "markdown",
   "metadata": {},
   "source": [
    "#### Do cross validation test to see if the model is overfitting"
   ]
  },
  {
   "cell_type": "code",
   "execution_count": 163,
   "metadata": {},
   "outputs": [
    {
     "name": "stdout",
     "output_type": "stream",
     "text": [
      "------------------------------------\n",
      "\n",
      "K: 5\n"
     ]
    },
    {
     "name": "stderr",
     "output_type": "stream",
     "text": [
      "/Users/admin/anaconda3/lib/python3.6/site-packages/sklearn/model_selection/_validation.py:458: DataConversionWarning: A column-vector y was passed when a 1d array was expected. Please change the shape of y to (n_samples,), for example using ravel().\n",
      "  estimator.fit(X_train, y_train, **fit_params)\n",
      "/Users/admin/anaconda3/lib/python3.6/site-packages/sklearn/model_selection/_validation.py:458: DataConversionWarning: A column-vector y was passed when a 1d array was expected. Please change the shape of y to (n_samples,), for example using ravel().\n",
      "  estimator.fit(X_train, y_train, **fit_params)\n",
      "/Users/admin/anaconda3/lib/python3.6/site-packages/sklearn/model_selection/_validation.py:458: DataConversionWarning: A column-vector y was passed when a 1d array was expected. Please change the shape of y to (n_samples,), for example using ravel().\n",
      "  estimator.fit(X_train, y_train, **fit_params)\n",
      "/Users/admin/anaconda3/lib/python3.6/site-packages/sklearn/model_selection/_validation.py:458: DataConversionWarning: A column-vector y was passed when a 1d array was expected. Please change the shape of y to (n_samples,), for example using ravel().\n",
      "  estimator.fit(X_train, y_train, **fit_params)\n",
      "/Users/admin/anaconda3/lib/python3.6/site-packages/sklearn/model_selection/_validation.py:458: DataConversionWarning: A column-vector y was passed when a 1d array was expected. Please change the shape of y to (n_samples,), for example using ravel().\n",
      "  estimator.fit(X_train, y_train, **fit_params)\n"
     ]
    },
    {
     "name": "stdout",
     "output_type": "stream",
     "text": [
      "Cross-validated scores: [0.85240896 0.93167421 0.93393665 0.92918552 0.92669683]\n"
     ]
    },
    {
     "name": "stderr",
     "output_type": "stream",
     "text": [
      "/Users/admin/anaconda3/lib/python3.6/site-packages/sklearn/model_selection/_validation.py:753: DataConversionWarning: A column-vector y was passed when a 1d array was expected. Please change the shape of y to (n_samples,), for example using ravel().\n",
      "  estimator.fit(X_train, y_train, **fit_params)\n",
      "/Users/admin/anaconda3/lib/python3.6/site-packages/sklearn/model_selection/_validation.py:753: DataConversionWarning: A column-vector y was passed when a 1d array was expected. Please change the shape of y to (n_samples,), for example using ravel().\n",
      "  estimator.fit(X_train, y_train, **fit_params)\n",
      "/Users/admin/anaconda3/lib/python3.6/site-packages/sklearn/model_selection/_validation.py:753: DataConversionWarning: A column-vector y was passed when a 1d array was expected. Please change the shape of y to (n_samples,), for example using ravel().\n",
      "  estimator.fit(X_train, y_train, **fit_params)\n",
      "/Users/admin/anaconda3/lib/python3.6/site-packages/sklearn/model_selection/_validation.py:753: DataConversionWarning: A column-vector y was passed when a 1d array was expected. Please change the shape of y to (n_samples,), for example using ravel().\n",
      "  estimator.fit(X_train, y_train, **fit_params)\n",
      "/Users/admin/anaconda3/lib/python3.6/site-packages/sklearn/model_selection/_validation.py:753: DataConversionWarning: A column-vector y was passed when a 1d array was expected. Please change the shape of y to (n_samples,), for example using ravel().\n",
      "  estimator.fit(X_train, y_train, **fit_params)\n"
     ]
    },
    {
     "name": "stdout",
     "output_type": "stream",
     "text": [
      "ROC AUC SCORE: 0.9147776118727659\n",
      "[[20507  1594]\n",
      " [ 2173 19928]]\n"
     ]
    }
   ],
   "source": [
    "from sklearn.model_selection import cross_val_score, cross_val_predict\n",
    "from sklearn import metrics\n",
    "\n",
    "# Run CV sores for 5 folds\n",
    "print('------------------------------------\\n')\n",
    "print('K: {}'.format(5))\n",
    "model = RF(random_state = 7)\n",
    "    \n",
    "    # Perform cross-validation\n",
    "scores = cross_val_score(model, X_trn, y_nw, cv=5)\n",
    "print(\"Cross-validated scores: {}\".format(scores))\n",
    "    \n",
    "    # Make cross-validated predictions\n",
    "predictions = cross_val_predict(model, X_trn, y_nw, cv=5)\n",
    "       \n",
    "rocauc= metrics.roc_auc_score(y_nw, predictions)\n",
    "print(\"ROC AUC SCORE: {}\".format(rocauc))\n",
    "cm = metrics.confusion_matrix(y_nw, predictions)\n",
    "print(cm)"
   ]
  },
  {
   "cell_type": "code",
   "execution_count": 164,
   "metadata": {},
   "outputs": [
    {
     "name": "stdout",
     "output_type": "stream",
     "text": [
      "0.8515286665373926\n",
      "[[13545  1901]\n",
      " [ 2693 12803]]\n"
     ]
    }
   ],
   "source": [
    "#model metrics from the original RF classifier\n",
    "print(metrics.accuracy_score(y_test,y_pred))\n",
    "cm = metrics.confusion_matrix(y_test, y_pred)\n",
    "print(cm)"
   ]
  },
  {
   "cell_type": "code",
   "execution_count": 165,
   "metadata": {},
   "outputs": [
    {
     "name": "stdout",
     "output_type": "stream",
     "text": [
      "0.914777611872766\n",
      "[[20507  1594]\n",
      " [ 2173 19928]]\n"
     ]
    }
   ],
   "source": [
    "#cross-validation scores\n",
    "print(metrics.accuracy_score(y_nw, predictions))\n",
    "cm = metrics.confusion_matrix(y_nw, predictions)\n",
    "print(cm)"
   ]
  },
  {
   "cell_type": "markdown",
   "metadata": {},
   "source": [
    "#### Understand the important features that drive the prediction for the randomforest classifier"
   ]
  },
  {
   "cell_type": "code",
   "execution_count": 166,
   "metadata": {},
   "outputs": [
    {
     "data": {
      "text/html": [
       "<div>\n",
       "<style scoped>\n",
       "    .dataframe tbody tr th:only-of-type {\n",
       "        vertical-align: middle;\n",
       "    }\n",
       "\n",
       "    .dataframe tbody tr th {\n",
       "        vertical-align: top;\n",
       "    }\n",
       "\n",
       "    .dataframe thead th {\n",
       "        text-align: right;\n",
       "    }\n",
       "</style>\n",
       "<table border=\"1\" class=\"dataframe\">\n",
       "  <thead>\n",
       "    <tr style=\"text-align: right;\">\n",
       "      <th></th>\n",
       "      <th>features</th>\n",
       "      <th>importance</th>\n",
       "    </tr>\n",
       "  </thead>\n",
       "  <tbody>\n",
       "    <tr>\n",
       "      <th>0</th>\n",
       "      <td>card_tenure</td>\n",
       "      <td>0.397592</td>\n",
       "    </tr>\n",
       "    <tr>\n",
       "      <th>1</th>\n",
       "      <td>risk_score</td>\n",
       "      <td>0.225052</td>\n",
       "    </tr>\n",
       "    <tr>\n",
       "      <th>2</th>\n",
       "      <td>avg_bal</td>\n",
       "      <td>0.318100</td>\n",
       "    </tr>\n",
       "    <tr>\n",
       "      <th>3</th>\n",
       "      <td>geo_group_SE</td>\n",
       "      <td>0.059256</td>\n",
       "    </tr>\n",
       "  </tbody>\n",
       "</table>\n",
       "</div>"
      ],
      "text/plain": [
       "       features  importance\n",
       "0   card_tenure    0.397592\n",
       "1    risk_score    0.225052\n",
       "2       avg_bal    0.318100\n",
       "3  geo_group_SE    0.059256"
      ]
     },
     "execution_count": 166,
     "metadata": {},
     "output_type": "execute_result"
    }
   ],
   "source": [
    "featureImportance = clf.feature_importances_\n",
    "for i in range(len(featureImportance)):\n",
    "    featureImportance[i]\n",
    "feat = pd.DataFrame() \n",
    "feat[\"features\"] = feature_col_nw\n",
    "feat['importance'] = featureImportance.data\n",
    "feat"
   ]
  },
  {
   "cell_type": "code",
   "execution_count": null,
   "metadata": {},
   "outputs": [],
   "source": []
  },
  {
   "cell_type": "code",
   "execution_count": null,
   "metadata": {},
   "outputs": [],
   "source": []
  }
 ],
 "metadata": {
  "kernelspec": {
   "display_name": "Python 3",
   "language": "python",
   "name": "python3"
  },
  "language_info": {
   "codemirror_mode": {
    "name": "ipython",
    "version": 3
   },
   "file_extension": ".py",
   "mimetype": "text/x-python",
   "name": "python",
   "nbconvert_exporter": "python",
   "pygments_lexer": "ipython3",
   "version": "3.6.4"
  }
 },
 "nbformat": 4,
 "nbformat_minor": 2
}
