{
 "cells": [
  {
   "cell_type": "markdown",
   "metadata": {},
   "source": [
    "\n",
    "# Final Project: Campaign Response Model\n",
    "\n",
    "Author: George Cherukara Joggy"
   ]
  },
  {
   "cell_type": "markdown",
   "metadata": {},
   "source": [
    "## 1. Problem Statement\n",
    "#### Use the  campaign response from a targeted group of existing consumers of a financial card issuing organization to apply on the rest of the consumer pool to predict the profile of consumers that will respond to similair campaigns"
   ]
  },
  {
   "cell_type": "markdown",
   "metadata": {},
   "source": [
    "## 2. Python Code"
   ]
  },
  {
   "cell_type": "markdown",
   "metadata": {},
   "source": [
    "### 1. Data Preparation"
   ]
  },
  {
   "cell_type": "markdown",
   "metadata": {},
   "source": [
    "#### import all necessary libraries"
   ]
  },
  {
   "cell_type": "code",
   "execution_count": 102,
   "metadata": {},
   "outputs": [],
   "source": [
    "import pandas as pd\n",
    "import numpy as np\n",
    "from sklearn.model_selection import train_test_split\n",
    "import matplotlib.pyplot as plt\n",
    "\n",
    "%matplotlib inline"
   ]
  },
  {
   "cell_type": "markdown",
   "metadata": {},
   "source": [
    "#### import the promotional dataset and save it to a dataframe"
   ]
  },
  {
   "cell_type": "code",
   "execution_count": 103,
   "metadata": {},
   "outputs": [
    {
     "data": {
      "text/html": [
       "<div>\n",
       "<style scoped>\n",
       "    .dataframe tbody tr th:only-of-type {\n",
       "        vertical-align: middle;\n",
       "    }\n",
       "\n",
       "    .dataframe tbody tr th {\n",
       "        vertical-align: top;\n",
       "    }\n",
       "\n",
       "    .dataframe thead th {\n",
       "        text-align: right;\n",
       "    }\n",
       "</style>\n",
       "<table border=\"1\" class=\"dataframe\">\n",
       "  <thead>\n",
       "    <tr style=\"text-align: right;\">\n",
       "      <th></th>\n",
       "      <th>customer_id</th>\n",
       "      <th>resp</th>\n",
       "      <th>card_tenure</th>\n",
       "      <th>risk_score</th>\n",
       "      <th>num_promoted</th>\n",
       "      <th>avg_bal</th>\n",
       "      <th>geo_group</th>\n",
       "      <th>res_type</th>\n",
       "    </tr>\n",
       "  </thead>\n",
       "  <tbody>\n",
       "    <tr>\n",
       "      <th>0</th>\n",
       "      <td>SB0000024239</td>\n",
       "      <td>0</td>\n",
       "      <td>143.0</td>\n",
       "      <td>520</td>\n",
       "      <td>0</td>\n",
       "      <td>4108.0</td>\n",
       "      <td>E</td>\n",
       "      <td>TO</td>\n",
       "    </tr>\n",
       "    <tr>\n",
       "      <th>1</th>\n",
       "      <td>SB0000103256</td>\n",
       "      <td>0</td>\n",
       "      <td>91.0</td>\n",
       "      <td>694</td>\n",
       "      <td>0</td>\n",
       "      <td>3268.0</td>\n",
       "      <td>N</td>\n",
       "      <td>CO</td>\n",
       "    </tr>\n",
       "    <tr>\n",
       "      <th>2</th>\n",
       "      <td>SB0000115357</td>\n",
       "      <td>0</td>\n",
       "      <td>139.0</td>\n",
       "      <td>520</td>\n",
       "      <td>0</td>\n",
       "      <td>3785.0</td>\n",
       "      <td>E</td>\n",
       "      <td>NaN</td>\n",
       "    </tr>\n",
       "    <tr>\n",
       "      <th>3</th>\n",
       "      <td>SB0000060380</td>\n",
       "      <td>0</td>\n",
       "      <td>147.0</td>\n",
       "      <td>676</td>\n",
       "      <td>0</td>\n",
       "      <td>3402.0</td>\n",
       "      <td>E</td>\n",
       "      <td>CO</td>\n",
       "    </tr>\n",
       "    <tr>\n",
       "      <th>4</th>\n",
       "      <td>SB0000138548</td>\n",
       "      <td>0</td>\n",
       "      <td>222.0</td>\n",
       "      <td>717</td>\n",
       "      <td>0</td>\n",
       "      <td>3580.0</td>\n",
       "      <td>SE</td>\n",
       "      <td>CO</td>\n",
       "    </tr>\n",
       "  </tbody>\n",
       "</table>\n",
       "</div>"
      ],
      "text/plain": [
       "    customer_id  resp  card_tenure  risk_score  num_promoted  avg_bal  \\\n",
       "0  SB0000024239     0        143.0         520             0   4108.0   \n",
       "1  SB0000103256     0         91.0         694             0   3268.0   \n",
       "2  SB0000115357     0        139.0         520             0   3785.0   \n",
       "3  SB0000060380     0        147.0         676             0   3402.0   \n",
       "4  SB0000138548     0        222.0         717             0   3580.0   \n",
       "\n",
       "  geo_group res_type  \n",
       "0         E       TO  \n",
       "1         N       CO  \n",
       "2         E      NaN  \n",
       "3         E       CO  \n",
       "4        SE       CO  "
      ]
     },
     "execution_count": 103,
     "metadata": {},
     "output_type": "execute_result"
    }
   ],
   "source": [
    "promoted = pd.read_csv('./datasets/promoted.csv')\n",
    "promoted.head()\n",
    "#cars_training.shape"
   ]
  },
  {
   "cell_type": "markdown",
   "metadata": {},
   "source": [
    "### 2. Data cleanup and EDA"
   ]
  },
  {
   "cell_type": "code",
   "execution_count": 104,
   "metadata": {},
   "outputs": [],
   "source": [
    "#Define a EDA function to include the following details:  \n",
    "#total nulls, index, data types, shape, summary statistics, and the number of unique values for each column\n",
    "def eda_analysis(data):\n",
    "    print(data.head())\n",
    "    print(data.describe(include='all'))\n",
    "    print(data.isnull().sum())\n",
    "    print(data.info())\n",
    "\n"
   ]
  },
  {
   "cell_type": "code",
   "execution_count": 105,
   "metadata": {},
   "outputs": [
    {
     "name": "stdout",
     "output_type": "stream",
     "text": [
      "    customer_id  resp  card_tenure  risk_score  num_promoted  avg_bal  \\\n",
      "0  SB0000024239     0        143.0         520             0   4108.0   \n",
      "1  SB0000103256     0         91.0         694             0   3268.0   \n",
      "2  SB0000115357     0        139.0         520             0   3785.0   \n",
      "3  SB0000060380     0        147.0         676             0   3402.0   \n",
      "4  SB0000138548     0        222.0         717             0   3580.0   \n",
      "\n",
      "  geo_group res_type  \n",
      "0         E       TO  \n",
      "1         N       CO  \n",
      "2         E      NaN  \n",
      "3         E       CO  \n",
      "4        SE       CO  \n",
      "         customer_id          resp   card_tenure    risk_score  num_promoted  \\\n",
      "count          25000  25000.000000  24515.000000  25000.000000  25000.000000   \n",
      "unique         25000           NaN           NaN           NaN           NaN   \n",
      "top     SB0000014636           NaN           NaN           NaN           NaN   \n",
      "freq               1           NaN           NaN           NaN           NaN   \n",
      "mean             NaN      0.068640    139.491617    655.091680      0.007000   \n",
      "std              NaN      0.252846     66.998010     81.315116      0.083374   \n",
      "min              NaN      0.000000      0.000000    520.000000      0.000000   \n",
      "25%              NaN      0.000000     95.000000    599.000000      0.000000   \n",
      "50%              NaN      0.000000    135.000000    677.000000      0.000000   \n",
      "75%              NaN      0.000000    179.000000    719.000000      0.000000   \n",
      "max              NaN      1.000000    641.000000    760.000000      1.000000   \n",
      "\n",
      "             avg_bal geo_group res_type  \n",
      "count   24286.000000     24491    24016  \n",
      "unique           NaN         4        5  \n",
      "top              NaN         E       CO  \n",
      "freq             NaN     10939     9400  \n",
      "mean     3065.417195       NaN      NaN  \n",
      "std       999.102540       NaN      NaN  \n",
      "min      -132.000000       NaN      NaN  \n",
      "25%      2666.000000       NaN      NaN  \n",
      "50%      3238.000000       NaN      NaN  \n",
      "75%      3632.000000       NaN      NaN  \n",
      "max     10725.000000       NaN      NaN  \n",
      "customer_id       0\n",
      "resp              0\n",
      "card_tenure     485\n",
      "risk_score        0\n",
      "num_promoted      0\n",
      "avg_bal         714\n",
      "geo_group       509\n",
      "res_type        984\n",
      "dtype: int64\n",
      "<class 'pandas.core.frame.DataFrame'>\n",
      "RangeIndex: 25000 entries, 0 to 24999\n",
      "Data columns (total 8 columns):\n",
      "customer_id     25000 non-null object\n",
      "resp            25000 non-null int64\n",
      "card_tenure     24515 non-null float64\n",
      "risk_score      25000 non-null int64\n",
      "num_promoted    25000 non-null int64\n",
      "avg_bal         24286 non-null float64\n",
      "geo_group       24491 non-null object\n",
      "res_type        24016 non-null object\n",
      "dtypes: float64(2), int64(3), object(3)\n",
      "memory usage: 1.5+ MB\n",
      "None\n"
     ]
    }
   ],
   "source": [
    "eda_analysis(promoted)"
   ]
  },
  {
   "cell_type": "markdown",
   "metadata": {},
   "source": [
    "#### Fill the null values from float variables with median values"
   ]
  },
  {
   "cell_type": "code",
   "execution_count": 106,
   "metadata": {},
   "outputs": [],
   "source": [
    "promoted[\"avg_bal\"].fillna(promoted[\"avg_bal\"].median(), inplace=True)\n",
    "promoted[\"card_tenure\"].fillna(promoted[\"card_tenure\"].median(), inplace=True)"
   ]
  },
  {
   "cell_type": "code",
   "execution_count": 107,
   "metadata": {},
   "outputs": [
    {
     "data": {
      "text/plain": [
       "Index(['customer_id', 'resp', 'card_tenure', 'risk_score', 'num_promoted',\n",
       "       'avg_bal', 'geo_group', 'res_type'],\n",
       "      dtype='object')"
      ]
     },
     "execution_count": 107,
     "metadata": {},
     "output_type": "execute_result"
    }
   ],
   "source": [
    "#promoted.geo_group.value_counts()\n",
    "promoted.columns"
   ]
  },
  {
   "cell_type": "markdown",
   "metadata": {},
   "source": [
    "#### convert the categorical variables to dummy variables"
   ]
  },
  {
   "cell_type": "code",
   "execution_count": 108,
   "metadata": {},
   "outputs": [
    {
     "data": {
      "text/plain": [
       "Index(['customer_id', 'resp', 'card_tenure', 'risk_score', 'num_promoted',\n",
       "       'avg_bal', 'geo_group_N', 'geo_group_SE', 'geo_group_W', 'res_type_CO',\n",
       "       'res_type_RE', 'res_type_SI', 'res_type_TO'],\n",
       "      dtype='object')"
      ]
     },
     "execution_count": 108,
     "metadata": {},
     "output_type": "execute_result"
    }
   ],
   "source": [
    "cat_col = ['geo_group','res_type']\n",
    "promoted_nw = pd.get_dummies(promoted,columns=cat_col,drop_first=True)\n",
    "promoted_nw.columns"
   ]
  },
  {
   "cell_type": "code",
   "execution_count": 109,
   "metadata": {},
   "outputs": [
    {
     "data": {
      "text/html": [
       "<div>\n",
       "<style scoped>\n",
       "    .dataframe tbody tr th:only-of-type {\n",
       "        vertical-align: middle;\n",
       "    }\n",
       "\n",
       "    .dataframe tbody tr th {\n",
       "        vertical-align: top;\n",
       "    }\n",
       "\n",
       "    .dataframe thead th {\n",
       "        text-align: right;\n",
       "    }\n",
       "</style>\n",
       "<table border=\"1\" class=\"dataframe\">\n",
       "  <thead>\n",
       "    <tr style=\"text-align: right;\">\n",
       "      <th></th>\n",
       "      <th>resp</th>\n",
       "      <th>card_tenure</th>\n",
       "      <th>risk_score</th>\n",
       "      <th>num_promoted</th>\n",
       "      <th>avg_bal</th>\n",
       "      <th>geo_group_N</th>\n",
       "      <th>geo_group_SE</th>\n",
       "      <th>geo_group_W</th>\n",
       "      <th>res_type_CO</th>\n",
       "      <th>res_type_RE</th>\n",
       "      <th>res_type_SI</th>\n",
       "      <th>res_type_TO</th>\n",
       "    </tr>\n",
       "  </thead>\n",
       "  <tbody>\n",
       "    <tr>\n",
       "      <th>count</th>\n",
       "      <td>25000.000000</td>\n",
       "      <td>25000.000000</td>\n",
       "      <td>25000.000000</td>\n",
       "      <td>25000.000000</td>\n",
       "      <td>25000.000000</td>\n",
       "      <td>25000.000000</td>\n",
       "      <td>25000.000000</td>\n",
       "      <td>25000.000000</td>\n",
       "      <td>25000.00000</td>\n",
       "      <td>25000.000000</td>\n",
       "      <td>25000.000000</td>\n",
       "      <td>25000.000000</td>\n",
       "    </tr>\n",
       "    <tr>\n",
       "      <th>mean</th>\n",
       "      <td>0.068640</td>\n",
       "      <td>139.404480</td>\n",
       "      <td>655.091680</td>\n",
       "      <td>0.007000</td>\n",
       "      <td>3070.346160</td>\n",
       "      <td>0.257840</td>\n",
       "      <td>0.137000</td>\n",
       "      <td>0.147240</td>\n",
       "      <td>0.37600</td>\n",
       "      <td>0.069120</td>\n",
       "      <td>0.217000</td>\n",
       "      <td>0.200400</td>\n",
       "    </tr>\n",
       "    <tr>\n",
       "      <th>std</th>\n",
       "      <td>0.252846</td>\n",
       "      <td>66.347813</td>\n",
       "      <td>81.315116</td>\n",
       "      <td>0.083374</td>\n",
       "      <td>985.150941</td>\n",
       "      <td>0.437454</td>\n",
       "      <td>0.343854</td>\n",
       "      <td>0.354352</td>\n",
       "      <td>0.48439</td>\n",
       "      <td>0.253663</td>\n",
       "      <td>0.412211</td>\n",
       "      <td>0.400308</td>\n",
       "    </tr>\n",
       "    <tr>\n",
       "      <th>min</th>\n",
       "      <td>0.000000</td>\n",
       "      <td>0.000000</td>\n",
       "      <td>520.000000</td>\n",
       "      <td>0.000000</td>\n",
       "      <td>-132.000000</td>\n",
       "      <td>0.000000</td>\n",
       "      <td>0.000000</td>\n",
       "      <td>0.000000</td>\n",
       "      <td>0.00000</td>\n",
       "      <td>0.000000</td>\n",
       "      <td>0.000000</td>\n",
       "      <td>0.000000</td>\n",
       "    </tr>\n",
       "    <tr>\n",
       "      <th>25%</th>\n",
       "      <td>0.000000</td>\n",
       "      <td>95.000000</td>\n",
       "      <td>599.000000</td>\n",
       "      <td>0.000000</td>\n",
       "      <td>2686.750000</td>\n",
       "      <td>0.000000</td>\n",
       "      <td>0.000000</td>\n",
       "      <td>0.000000</td>\n",
       "      <td>0.00000</td>\n",
       "      <td>0.000000</td>\n",
       "      <td>0.000000</td>\n",
       "      <td>0.000000</td>\n",
       "    </tr>\n",
       "    <tr>\n",
       "      <th>50%</th>\n",
       "      <td>0.000000</td>\n",
       "      <td>135.000000</td>\n",
       "      <td>677.000000</td>\n",
       "      <td>0.000000</td>\n",
       "      <td>3238.000000</td>\n",
       "      <td>0.000000</td>\n",
       "      <td>0.000000</td>\n",
       "      <td>0.000000</td>\n",
       "      <td>0.00000</td>\n",
       "      <td>0.000000</td>\n",
       "      <td>0.000000</td>\n",
       "      <td>0.000000</td>\n",
       "    </tr>\n",
       "    <tr>\n",
       "      <th>75%</th>\n",
       "      <td>0.000000</td>\n",
       "      <td>179.000000</td>\n",
       "      <td>719.000000</td>\n",
       "      <td>0.000000</td>\n",
       "      <td>3622.000000</td>\n",
       "      <td>1.000000</td>\n",
       "      <td>0.000000</td>\n",
       "      <td>0.000000</td>\n",
       "      <td>1.00000</td>\n",
       "      <td>0.000000</td>\n",
       "      <td>0.000000</td>\n",
       "      <td>0.000000</td>\n",
       "    </tr>\n",
       "    <tr>\n",
       "      <th>max</th>\n",
       "      <td>1.000000</td>\n",
       "      <td>641.000000</td>\n",
       "      <td>760.000000</td>\n",
       "      <td>1.000000</td>\n",
       "      <td>10725.000000</td>\n",
       "      <td>1.000000</td>\n",
       "      <td>1.000000</td>\n",
       "      <td>1.000000</td>\n",
       "      <td>1.00000</td>\n",
       "      <td>1.000000</td>\n",
       "      <td>1.000000</td>\n",
       "      <td>1.000000</td>\n",
       "    </tr>\n",
       "  </tbody>\n",
       "</table>\n",
       "</div>"
      ],
      "text/plain": [
       "               resp   card_tenure    risk_score  num_promoted       avg_bal  \\\n",
       "count  25000.000000  25000.000000  25000.000000  25000.000000  25000.000000   \n",
       "mean       0.068640    139.404480    655.091680      0.007000   3070.346160   \n",
       "std        0.252846     66.347813     81.315116      0.083374    985.150941   \n",
       "min        0.000000      0.000000    520.000000      0.000000   -132.000000   \n",
       "25%        0.000000     95.000000    599.000000      0.000000   2686.750000   \n",
       "50%        0.000000    135.000000    677.000000      0.000000   3238.000000   \n",
       "75%        0.000000    179.000000    719.000000      0.000000   3622.000000   \n",
       "max        1.000000    641.000000    760.000000      1.000000  10725.000000   \n",
       "\n",
       "        geo_group_N  geo_group_SE   geo_group_W  res_type_CO   res_type_RE  \\\n",
       "count  25000.000000  25000.000000  25000.000000  25000.00000  25000.000000   \n",
       "mean       0.257840      0.137000      0.147240      0.37600      0.069120   \n",
       "std        0.437454      0.343854      0.354352      0.48439      0.253663   \n",
       "min        0.000000      0.000000      0.000000      0.00000      0.000000   \n",
       "25%        0.000000      0.000000      0.000000      0.00000      0.000000   \n",
       "50%        0.000000      0.000000      0.000000      0.00000      0.000000   \n",
       "75%        1.000000      0.000000      0.000000      1.00000      0.000000   \n",
       "max        1.000000      1.000000      1.000000      1.00000      1.000000   \n",
       "\n",
       "        res_type_SI   res_type_TO  \n",
       "count  25000.000000  25000.000000  \n",
       "mean       0.217000      0.200400  \n",
       "std        0.412211      0.400308  \n",
       "min        0.000000      0.000000  \n",
       "25%        0.000000      0.000000  \n",
       "50%        0.000000      0.000000  \n",
       "75%        0.000000      0.000000  \n",
       "max        1.000000      1.000000  "
      ]
     },
     "execution_count": 109,
     "metadata": {},
     "output_type": "execute_result"
    }
   ],
   "source": [
    "\n",
    "#promoted_nw.head()\n",
    "#promoted_nw.isnull().sum()\n",
    "promoted_nw.describe()"
   ]
  },
  {
   "cell_type": "markdown",
   "metadata": {},
   "source": [
    "#### understand the class balance of resp variable"
   ]
  },
  {
   "cell_type": "code",
   "execution_count": 110,
   "metadata": {},
   "outputs": [
    {
     "data": {
      "text/plain": [
       "0    23284\n",
       "1     1716\n",
       "Name: resp, dtype: int64"
      ]
     },
     "execution_count": 110,
     "metadata": {},
     "output_type": "execute_result"
    }
   ],
   "source": [
    "#understand class variance of the target variable\n",
    "promoted_nw.resp.value_counts()"
   ]
  },
  {
   "cell_type": "markdown",
   "metadata": {},
   "source": [
    "resp class balance is 0(93.2%) and 1(6.8%)"
   ]
  },
  {
   "cell_type": "markdown",
   "metadata": {},
   "source": [
    "#### plot the variables to understand correlation"
   ]
  },
  {
   "cell_type": "code",
   "execution_count": 111,
   "metadata": {
    "scrolled": true
   },
   "outputs": [
    {
     "data": {
      "image/png": "[encoded data removed]",
      "text/plain": [
       "<matplotlib.figure.Figure at 0x1a1a29eba8>"
      ]
     },
     "metadata": {},
     "output_type": "display_data"
    }
   ],
   "source": [
    "# Check out variable relations\n",
    "import seaborn as sns\n",
    "\n",
    "sns.heatmap(promoted_nw.corr());"
   ]
  },
  {
   "cell_type": "code",
   "execution_count": 112,
   "metadata": {},
   "outputs": [
    {
     "data": {
      "text/html": [
       "<div>\n",
       "<style scoped>\n",
       "    .dataframe tbody tr th:only-of-type {\n",
       "        vertical-align: middle;\n",
       "    }\n",
       "\n",
       "    .dataframe tbody tr th {\n",
       "        vertical-align: top;\n",
       "    }\n",
       "\n",
       "    .dataframe thead th {\n",
       "        text-align: right;\n",
       "    }\n",
       "</style>\n",
       "<table border=\"1\" class=\"dataframe\">\n",
       "  <thead>\n",
       "    <tr style=\"text-align: right;\">\n",
       "      <th></th>\n",
       "      <th>card_tenure</th>\n",
       "      <th>risk_score</th>\n",
       "      <th>num_promoted</th>\n",
       "      <th>avg_bal</th>\n",
       "      <th>geo_group_N</th>\n",
       "      <th>geo_group_SE</th>\n",
       "      <th>geo_group_W</th>\n",
       "      <th>res_type_CO</th>\n",
       "      <th>res_type_RE</th>\n",
       "      <th>res_type_SI</th>\n",
       "      <th>res_type_TO</th>\n",
       "    </tr>\n",
       "  </thead>\n",
       "  <tbody>\n",
       "    <tr>\n",
       "      <th>0</th>\n",
       "      <td>143.0</td>\n",
       "      <td>520</td>\n",
       "      <td>0</td>\n",
       "      <td>4108.0</td>\n",
       "      <td>0</td>\n",
       "      <td>0</td>\n",
       "      <td>0</td>\n",
       "      <td>0</td>\n",
       "      <td>0</td>\n",
       "      <td>0</td>\n",
       "      <td>1</td>\n",
       "    </tr>\n",
       "    <tr>\n",
       "      <th>1</th>\n",
       "      <td>91.0</td>\n",
       "      <td>694</td>\n",
       "      <td>0</td>\n",
       "      <td>3268.0</td>\n",
       "      <td>1</td>\n",
       "      <td>0</td>\n",
       "      <td>0</td>\n",
       "      <td>1</td>\n",
       "      <td>0</td>\n",
       "      <td>0</td>\n",
       "      <td>0</td>\n",
       "    </tr>\n",
       "    <tr>\n",
       "      <th>2</th>\n",
       "      <td>139.0</td>\n",
       "      <td>520</td>\n",
       "      <td>0</td>\n",
       "      <td>3785.0</td>\n",
       "      <td>0</td>\n",
       "      <td>0</td>\n",
       "      <td>0</td>\n",
       "      <td>0</td>\n",
       "      <td>0</td>\n",
       "      <td>0</td>\n",
       "      <td>0</td>\n",
       "    </tr>\n",
       "    <tr>\n",
       "      <th>3</th>\n",
       "      <td>147.0</td>\n",
       "      <td>676</td>\n",
       "      <td>0</td>\n",
       "      <td>3402.0</td>\n",
       "      <td>0</td>\n",
       "      <td>0</td>\n",
       "      <td>0</td>\n",
       "      <td>1</td>\n",
       "      <td>0</td>\n",
       "      <td>0</td>\n",
       "      <td>0</td>\n",
       "    </tr>\n",
       "    <tr>\n",
       "      <th>4</th>\n",
       "      <td>222.0</td>\n",
       "      <td>717</td>\n",
       "      <td>0</td>\n",
       "      <td>3580.0</td>\n",
       "      <td>0</td>\n",
       "      <td>1</td>\n",
       "      <td>0</td>\n",
       "      <td>1</td>\n",
       "      <td>0</td>\n",
       "      <td>0</td>\n",
       "      <td>0</td>\n",
       "    </tr>\n",
       "  </tbody>\n",
       "</table>\n",
       "</div>"
      ],
      "text/plain": [
       "   card_tenure  risk_score  num_promoted  avg_bal  geo_group_N  geo_group_SE  \\\n",
       "0        143.0         520             0   4108.0            0             0   \n",
       "1         91.0         694             0   3268.0            1             0   \n",
       "2        139.0         520             0   3785.0            0             0   \n",
       "3        147.0         676             0   3402.0            0             0   \n",
       "4        222.0         717             0   3580.0            0             1   \n",
       "\n",
       "   geo_group_W  res_type_CO  res_type_RE  res_type_SI  res_type_TO  \n",
       "0            0            0            0            0            1  \n",
       "1            0            1            0            0            0  \n",
       "2            0            0            0            0            0  \n",
       "3            0            1            0            0            0  \n",
       "4            0            1            0            0            0  "
      ]
     },
     "execution_count": 112,
     "metadata": {},
     "output_type": "execute_result"
    }
   ],
   "source": [
    "feature_cols = ['card_tenure', 'risk_score', 'num_promoted','avg_bal', 'geo_group_N', 'geo_group_SE', 'geo_group_W', 'res_type_CO',\n",
    "       'res_type_RE', 'res_type_SI', 'res_type_TO']\n",
    "X = promoted_nw[feature_cols]\n",
    "y = promoted_nw.resp\n",
    "X.head()"
   ]
  },
  {
   "cell_type": "markdown",
   "metadata": {},
   "source": [
    "#### understanding the multicollinearity of the variables using VIF function"
   ]
  },
  {
   "cell_type": "code",
   "execution_count": 113,
   "metadata": {},
   "outputs": [
    {
     "data": {
      "text/html": [
       "<div>\n",
       "<style scoped>\n",
       "    .dataframe tbody tr th:only-of-type {\n",
       "        vertical-align: middle;\n",
       "    }\n",
       "\n",
       "    .dataframe tbody tr th {\n",
       "        vertical-align: top;\n",
       "    }\n",
       "\n",
       "    .dataframe thead th {\n",
       "        text-align: right;\n",
       "    }\n",
       "</style>\n",
       "<table border=\"1\" class=\"dataframe\">\n",
       "  <thead>\n",
       "    <tr style=\"text-align: right;\">\n",
       "      <th></th>\n",
       "      <th>vif</th>\n",
       "      <th>features</th>\n",
       "    </tr>\n",
       "  </thead>\n",
       "  <tbody>\n",
       "    <tr>\n",
       "      <th>0</th>\n",
       "      <td>889.488048</td>\n",
       "      <td>const</td>\n",
       "    </tr>\n",
       "    <tr>\n",
       "      <th>1</th>\n",
       "      <td>2.399391</td>\n",
       "      <td>card_tenure</td>\n",
       "    </tr>\n",
       "    <tr>\n",
       "      <th>2</th>\n",
       "      <td>13.826386</td>\n",
       "      <td>risk_score</td>\n",
       "    </tr>\n",
       "    <tr>\n",
       "      <th>3</th>\n",
       "      <td>1.005431</td>\n",
       "      <td>num_promoted</td>\n",
       "    </tr>\n",
       "    <tr>\n",
       "      <th>4</th>\n",
       "      <td>1.045273</td>\n",
       "      <td>avg_bal</td>\n",
       "    </tr>\n",
       "    <tr>\n",
       "      <th>5</th>\n",
       "      <td>1.496506</td>\n",
       "      <td>geo_group_N</td>\n",
       "    </tr>\n",
       "    <tr>\n",
       "      <th>6</th>\n",
       "      <td>1.454817</td>\n",
       "      <td>geo_group_SE</td>\n",
       "    </tr>\n",
       "    <tr>\n",
       "      <th>7</th>\n",
       "      <td>1.866781</td>\n",
       "      <td>geo_group_W</td>\n",
       "    </tr>\n",
       "    <tr>\n",
       "      <th>8</th>\n",
       "      <td>3.481169</td>\n",
       "      <td>res_type_CO</td>\n",
       "    </tr>\n",
       "    <tr>\n",
       "      <th>9</th>\n",
       "      <td>1.725016</td>\n",
       "      <td>res_type_RE</td>\n",
       "    </tr>\n",
       "    <tr>\n",
       "      <th>10</th>\n",
       "      <td>5.946056</td>\n",
       "      <td>res_type_SI</td>\n",
       "    </tr>\n",
       "    <tr>\n",
       "      <th>11</th>\n",
       "      <td>6.826096</td>\n",
       "      <td>res_type_TO</td>\n",
       "    </tr>\n",
       "  </tbody>\n",
       "</table>\n",
       "</div>"
      ],
      "text/plain": [
       "           vif      features\n",
       "0   889.488048         const\n",
       "1     2.399391   card_tenure\n",
       "2    13.826386    risk_score\n",
       "3     1.005431  num_promoted\n",
       "4     1.045273       avg_bal\n",
       "5     1.496506   geo_group_N\n",
       "6     1.454817  geo_group_SE\n",
       "7     1.866781   geo_group_W\n",
       "8     3.481169   res_type_CO\n",
       "9     1.725016   res_type_RE\n",
       "10    5.946056   res_type_SI\n",
       "11    6.826096   res_type_TO"
      ]
     },
     "execution_count": 113,
     "metadata": {},
     "output_type": "execute_result"
    }
   ],
   "source": [
    "import statsmodels.api as sm\n",
    "from pandas.core import datetools\n",
    "\n",
    "xc = sm.add_constant(X)\n",
    "from statsmodels.stats.outliers_influence import variance_inflation_factor\n",
    "vif = pd.DataFrame() \n",
    "vif[\"vif\"] = [variance_inflation_factor(xc.values, i) for i in range(xc.shape[1])]\n",
    "vif[\"features\"] = xc.columns\n",
    "vif"
   ]
  },
  {
   "cell_type": "markdown",
   "metadata": {},
   "source": [
    "The values of res_type_TO, res_type_SI, risk_score indicates high collinearity"
   ]
  },
  {
   "cell_type": "markdown",
   "metadata": {},
   "source": [
    "#### identify variables with lower significance level (P>|z| > 0.05) and drop them"
   ]
  },
  {
   "cell_type": "code",
   "execution_count": 114,
   "metadata": {},
   "outputs": [
    {
     "name": "stdout",
     "output_type": "stream",
     "text": [
      "Optimization terminated successfully.\n",
      "         Current function value: 0.240900\n",
      "         Iterations 8\n"
     ]
    },
    {
     "data": {
      "text/html": [
       "<table class=\"simpletable\">\n",
       "<tr>\n",
       "        <td>Model:</td>              <td>Logit</td>       <td>No. Iterations:</td>    <td>8.0000</td>  \n",
       "</tr>\n",
       "<tr>\n",
       "  <td>Dependent Variable:</td>       <td>resp</td>       <td>Pseudo R-squared:</td>    <td>0.037</td>  \n",
       "</tr>\n",
       "<tr>\n",
       "         <td>Date:</td>        <td>2018-07-14 11:39</td>       <td>AIC:</td>        <td>12066.9953</td>\n",
       "</tr>\n",
       "<tr>\n",
       "   <td>No. Observations:</td>        <td>25000</td>            <td>BIC:</td>        <td>12156.3882</td>\n",
       "</tr>\n",
       "<tr>\n",
       "       <td>Df Model:</td>             <td>10</td>         <td>Log-Likelihood:</td>    <td>-6022.5</td> \n",
       "</tr>\n",
       "<tr>\n",
       "     <td>Df Residuals:</td>          <td>24989</td>          <td>LL-Null:</td>        <td>-6252.7</td> \n",
       "</tr>\n",
       "<tr>\n",
       "      <td>Converged:</td>           <td>1.0000</td>           <td>Scale:</td>         <td>1.0000</td>  \n",
       "</tr>\n",
       "</table>\n",
       "<table class=\"simpletable\">\n",
       "<tr>\n",
       "        <td></td>        <th>Coef.</th>  <th>Std.Err.</th>     <th>z</th>     <th>P>|z|</th> <th>[0.025</th>  <th>0.975]</th> \n",
       "</tr>\n",
       "<tr>\n",
       "  <th>card_tenure</th>  <td>-0.0055</td>  <td>0.0010</td>   <td>-5.4892</td> <td>0.0000</td> <td>-0.0075</td> <td>-0.0035</td>\n",
       "</tr>\n",
       "<tr>\n",
       "  <th>risk_score</th>   <td>-0.0037</td>  <td>0.0003</td>  <td>-12.5600</td> <td>0.0000</td> <td>-0.0042</td> <td>-0.0031</td>\n",
       "</tr>\n",
       "<tr>\n",
       "  <th>num_promoted</th> <td>0.3780</td>   <td>0.2587</td>   <td>1.4612</td>  <td>0.1440</td> <td>-0.1290</td> <td>0.8851</td> \n",
       "</tr>\n",
       "<tr>\n",
       "  <th>avg_bal</th>      <td>0.0001</td>   <td>0.0000</td>   <td>6.0315</td>  <td>0.0000</td> <td>0.0001</td>  <td>0.0002</td> \n",
       "</tr>\n",
       "<tr>\n",
       "  <th>geo_group_N</th>  <td>0.1417</td>   <td>0.0814</td>   <td>1.7412</td>  <td>0.0816</td> <td>-0.0178</td> <td>0.3011</td> \n",
       "</tr>\n",
       "<tr>\n",
       "  <th>geo_group_SE</th> <td>-0.5414</td>  <td>0.1394</td>   <td>-3.8837</td> <td>0.0001</td> <td>-0.8146</td> <td>-0.2682</td>\n",
       "</tr>\n",
       "<tr>\n",
       "  <th>geo_group_W</th>  <td>0.2320</td>   <td>0.1210</td>   <td>1.9166</td>  <td>0.0553</td> <td>-0.0052</td> <td>0.4692</td> \n",
       "</tr>\n",
       "<tr>\n",
       "  <th>res_type_CO</th>  <td>-0.0561</td>  <td>0.0834</td>   <td>-0.6723</td> <td>0.5014</td> <td>-0.2196</td> <td>0.1074</td> \n",
       "</tr>\n",
       "<tr>\n",
       "  <th>res_type_RE</th>  <td>0.0785</td>   <td>0.1019</td>   <td>0.7698</td>  <td>0.4414</td> <td>-0.1213</td> <td>0.2782</td> \n",
       "</tr>\n",
       "<tr>\n",
       "  <th>res_type_SI</th>  <td>0.1777</td>   <td>0.1002</td>   <td>1.7728</td>  <td>0.0763</td> <td>-0.0188</td> <td>0.3741</td> \n",
       "</tr>\n",
       "<tr>\n",
       "  <th>res_type_TO</th>  <td>-0.2538</td>  <td>0.0815</td>   <td>-3.1149</td> <td>0.0018</td> <td>-0.4135</td> <td>-0.0941</td>\n",
       "</tr>\n",
       "</table>"
      ],
      "text/plain": [
       "<class 'statsmodels.iolib.summary2.Summary'>\n",
       "\"\"\"\n",
       "                         Results: Logit\n",
       "=================================================================\n",
       "Model:              Logit            No. Iterations:   8.0000    \n",
       "Dependent Variable: resp             Pseudo R-squared: 0.037     \n",
       "Date:               2018-07-14 11:39 AIC:              12066.9953\n",
       "No. Observations:   25000            BIC:              12156.3882\n",
       "Df Model:           10               Log-Likelihood:   -6022.5   \n",
       "Df Residuals:       24989            LL-Null:          -6252.7   \n",
       "Converged:          1.0000           Scale:            1.0000    \n",
       "-----------------------------------------------------------------\n",
       "                  Coef.  Std.Err.    z     P>|z|   [0.025  0.975]\n",
       "-----------------------------------------------------------------\n",
       "card_tenure      -0.0055   0.0010  -5.4892 0.0000 -0.0075 -0.0035\n",
       "risk_score       -0.0037   0.0003 -12.5600 0.0000 -0.0042 -0.0031\n",
       "num_promoted      0.3780   0.2587   1.4612 0.1440 -0.1290  0.8851\n",
       "avg_bal           0.0001   0.0000   6.0315 0.0000  0.0001  0.0002\n",
       "geo_group_N       0.1417   0.0814   1.7412 0.0816 -0.0178  0.3011\n",
       "geo_group_SE     -0.5414   0.1394  -3.8837 0.0001 -0.8146 -0.2682\n",
       "geo_group_W       0.2320   0.1210   1.9166 0.0553 -0.0052  0.4692\n",
       "res_type_CO      -0.0561   0.0834  -0.6723 0.5014 -0.2196  0.1074\n",
       "res_type_RE       0.0785   0.1019   0.7698 0.4414 -0.1213  0.2782\n",
       "res_type_SI       0.1777   0.1002   1.7728 0.0763 -0.0188  0.3741\n",
       "res_type_TO      -0.2538   0.0815  -3.1149 0.0018 -0.4135 -0.0941\n",
       "=================================================================\n",
       "\n",
       "\"\"\""
      ]
     },
     "execution_count": 114,
     "metadata": {},
     "output_type": "execute_result"
    }
   ],
   "source": [
    "import statsmodels.formula.api as sm\n",
    "#logit_model = sm.logit(\"resp ~ card_tenure + risk_score + num_promoted + avg_bal + geo_group_N+ geo_group_SE + geo_group_W + res_type_CO + res_type_RE + res_type_SI + res_type_TO\", data=promoted_nw).fit()\n",
    "logit_model=sm.Logit(y,X).fit()\n",
    "#logit_model.summary()\n",
    "logit_model.summary2()"
   ]
  },
  {
   "cell_type": "code",
   "execution_count": 115,
   "metadata": {},
   "outputs": [
    {
     "name": "stderr",
     "output_type": "stream",
     "text": [
      "/Users/admin/anaconda3/lib/python3.6/site-packages/ipykernel_launcher.py:2: SettingWithCopyWarning: \n",
      "A value is trying to be set on a copy of a slice from a DataFrame\n",
      "\n",
      "See the caveats in the documentation: http://pandas.pydata.org/pandas-docs/stable/indexing.html#indexing-view-versus-copy\n",
      "  \n"
     ]
    },
    {
     "data": {
      "text/html": [
       "<div>\n",
       "<style scoped>\n",
       "    .dataframe tbody tr th:only-of-type {\n",
       "        vertical-align: middle;\n",
       "    }\n",
       "\n",
       "    .dataframe tbody tr th {\n",
       "        vertical-align: top;\n",
       "    }\n",
       "\n",
       "    .dataframe thead th {\n",
       "        text-align: right;\n",
       "    }\n",
       "</style>\n",
       "<table border=\"1\" class=\"dataframe\">\n",
       "  <thead>\n",
       "    <tr style=\"text-align: right;\">\n",
       "      <th></th>\n",
       "      <th>card_tenure</th>\n",
       "      <th>risk_score</th>\n",
       "      <th>avg_bal</th>\n",
       "      <th>geo_group_SE</th>\n",
       "    </tr>\n",
       "  </thead>\n",
       "  <tbody>\n",
       "    <tr>\n",
       "      <th>0</th>\n",
       "      <td>143.0</td>\n",
       "      <td>520</td>\n",
       "      <td>4108.0</td>\n",
       "      <td>0</td>\n",
       "    </tr>\n",
       "    <tr>\n",
       "      <th>1</th>\n",
       "      <td>91.0</td>\n",
       "      <td>694</td>\n",
       "      <td>3268.0</td>\n",
       "      <td>0</td>\n",
       "    </tr>\n",
       "    <tr>\n",
       "      <th>2</th>\n",
       "      <td>139.0</td>\n",
       "      <td>520</td>\n",
       "      <td>3785.0</td>\n",
       "      <td>0</td>\n",
       "    </tr>\n",
       "    <tr>\n",
       "      <th>3</th>\n",
       "      <td>147.0</td>\n",
       "      <td>676</td>\n",
       "      <td>3402.0</td>\n",
       "      <td>0</td>\n",
       "    </tr>\n",
       "    <tr>\n",
       "      <th>4</th>\n",
       "      <td>222.0</td>\n",
       "      <td>717</td>\n",
       "      <td>3580.0</td>\n",
       "      <td>1</td>\n",
       "    </tr>\n",
       "  </tbody>\n",
       "</table>\n",
       "</div>"
      ],
      "text/plain": [
       "   card_tenure  risk_score  avg_bal  geo_group_SE\n",
       "0        143.0         520   4108.0             0\n",
       "1         91.0         694   3268.0             0\n",
       "2        139.0         520   3785.0             0\n",
       "3        147.0         676   3402.0             0\n",
       "4        222.0         717   3580.0             1"
      ]
     },
     "execution_count": 115,
     "metadata": {},
     "output_type": "execute_result"
    }
   ],
   "source": [
    "#drop res_type_SI,res_type_RE,res_type_CO,geo_group_N,num_promoted \n",
    "X.drop(['res_type_SI','res_type_RE', 'res_type_CO','geo_group_N','geo_group_W','num_promoted','res_type_TO'], axis=1, inplace=True)\n",
    "X.head()"
   ]
  },
  {
   "cell_type": "code",
   "execution_count": 116,
   "metadata": {},
   "outputs": [
    {
     "data": {
      "text/html": [
       "<div>\n",
       "<style scoped>\n",
       "    .dataframe tbody tr th:only-of-type {\n",
       "        vertical-align: middle;\n",
       "    }\n",
       "\n",
       "    .dataframe tbody tr th {\n",
       "        vertical-align: top;\n",
       "    }\n",
       "\n",
       "    .dataframe thead th {\n",
       "        text-align: right;\n",
       "    }\n",
       "</style>\n",
       "<table border=\"1\" class=\"dataframe\">\n",
       "  <thead>\n",
       "    <tr style=\"text-align: right;\">\n",
       "      <th></th>\n",
       "      <th>vif</th>\n",
       "      <th>features</th>\n",
       "    </tr>\n",
       "  </thead>\n",
       "  <tbody>\n",
       "    <tr>\n",
       "      <th>0</th>\n",
       "      <td>79.681268</td>\n",
       "      <td>const</td>\n",
       "    </tr>\n",
       "    <tr>\n",
       "      <th>1</th>\n",
       "      <td>1.403627</td>\n",
       "      <td>card_tenure</td>\n",
       "    </tr>\n",
       "    <tr>\n",
       "      <th>2</th>\n",
       "      <td>1.011440</td>\n",
       "      <td>risk_score</td>\n",
       "    </tr>\n",
       "    <tr>\n",
       "      <th>3</th>\n",
       "      <td>1.016933</td>\n",
       "      <td>avg_bal</td>\n",
       "    </tr>\n",
       "    <tr>\n",
       "      <th>4</th>\n",
       "      <td>1.398066</td>\n",
       "      <td>geo_group_SE</td>\n",
       "    </tr>\n",
       "  </tbody>\n",
       "</table>\n",
       "</div>"
      ],
      "text/plain": [
       "         vif      features\n",
       "0  79.681268         const\n",
       "1   1.403627   card_tenure\n",
       "2   1.011440    risk_score\n",
       "3   1.016933       avg_bal\n",
       "4   1.398066  geo_group_SE"
      ]
     },
     "execution_count": 116,
     "metadata": {},
     "output_type": "execute_result"
    }
   ],
   "source": [
    "#run VIF again to test multicollinearity\n",
    "import statsmodels.api as sm\n",
    "from pandas.core import datetools\n",
    "xc = sm.add_constant(X)\n",
    "from statsmodels.stats.outliers_influence import variance_inflation_factor\n",
    "vif = pd.DataFrame() \n",
    "vif[\"vif\"] = [variance_inflation_factor(xc.values, i) for i in range(xc.shape[1])]\n",
    "vif[\"features\"] = xc.columns\n",
    "vif"
   ]
  },
  {
   "cell_type": "markdown",
   "metadata": {},
   "source": [
    "#### fix the class imbalance of resp using SMOTEtomek"
   ]
  },
  {
   "cell_type": "code",
   "execution_count": 117,
   "metadata": {},
   "outputs": [],
   "source": [
    "feature_col_nw = ['card_tenure', 'risk_score', 'avg_bal', 'geo_group_SE']\n",
    "#X.columns\n",
    "target_col = ['resp']"
   ]
  },
  {
   "cell_type": "code",
   "execution_count": 118,
   "metadata": {},
   "outputs": [
    {
     "name": "stdout",
     "output_type": "stream",
     "text": [
      "[(0, 22071), (1, 22071)]\n"
     ]
    }
   ],
   "source": [
    "from imblearn.combine import SMOTETomek\n",
    "sm = SMOTETomek()\n",
    "X_resampled, y_resampled = sm.fit_sample(X, y)\n",
    "from collections import Counter\n",
    "print(sorted(Counter(y_resampled).items()))\n",
    "\n",
    "X_nw = pd.DataFrame(X_resampled, columns=feature_col_nw)\n",
    "y_nw = pd.DataFrame(y_resampled, columns=target_col)"
   ]
  },
  {
   "cell_type": "markdown",
   "metadata": {},
   "source": [
    "### 3. Model training and fit"
   ]
  },
  {
   "cell_type": "markdown",
   "metadata": {},
   "source": [
    "#### do  scaling using StandardScaler"
   ]
  },
  {
   "cell_type": "code",
   "execution_count": 119,
   "metadata": {},
   "outputs": [],
   "source": [
    "from sklearn.preprocessing import StandardScaler\n",
    "scaler = StandardScaler()\n",
    "X_trn = scaler.fit_transform(X_nw)"
   ]
  },
  {
   "cell_type": "markdown",
   "metadata": {},
   "source": [
    "#### perform train test split"
   ]
  },
  {
   "cell_type": "code",
   "execution_count": 120,
   "metadata": {},
   "outputs": [],
   "source": [
    "X_train, X_test, y_train, y_test=train_test_split(X_trn,y_nw, test_size=0.7, random_state=7)"
   ]
  },
  {
   "cell_type": "markdown",
   "metadata": {},
   "source": [
    "#### 3.1 Run a Logistic Regression model"
   ]
  },
  {
   "cell_type": "code",
   "execution_count": 121,
   "metadata": {},
   "outputs": [
    {
     "name": "stdout",
     "output_type": "stream",
     "text": [
      "Accuracy of logistic regression classifier on test set: 0.62\n"
     ]
    },
    {
     "name": "stderr",
     "output_type": "stream",
     "text": [
      "/Users/admin/anaconda3/lib/python3.6/site-packages/sklearn/utils/validation.py:578: DataConversionWarning: A column-vector y was passed when a 1d array was expected. Please change the shape of y to (n_samples, ), for example using ravel().\n",
      "  y = column_or_1d(y, warn=True)\n"
     ]
    }
   ],
   "source": [
    "from sklearn.linear_model import LogisticRegression\n",
    "from sklearn import metrics\n",
    "logreg = LogisticRegression(penalty='l1')\n",
    "logreg.fit(X_train, y_train)\n",
    "y_pred = logreg.predict(X_test)\n",
    "print('Accuracy of logistic regression classifier on test set: {:.2f}'.format(logreg.score(X_test, y_test)))"
   ]
  },
  {
   "cell_type": "code",
   "execution_count": 122,
   "metadata": {},
   "outputs": [
    {
     "name": "stdout",
     "output_type": "stream",
     "text": [
      "[[ 8414  7059]\n",
      " [ 4674 10753]]\n"
     ]
    }
   ],
   "source": [
    "from sklearn import metrics\n",
    "cm = metrics.confusion_matrix(y_test, y_pred)\n",
    "print(cm)"
   ]
  },
  {
   "cell_type": "code",
   "execution_count": 123,
   "metadata": {},
   "outputs": [
    {
     "data": {
      "text/plain": [
       "0.6204053233393703"
      ]
     },
     "execution_count": 123,
     "metadata": {},
     "output_type": "execute_result"
    }
   ],
   "source": [
    "metrics.roc_auc_score(y_test,y_pred)"
   ]
  },
  {
   "cell_type": "code",
   "execution_count": 124,
   "metadata": {},
   "outputs": [
    {
     "name": "stdout",
     "output_type": "stream",
     "text": [
      "             precision    recall  f1-score   support\n",
      "\n",
      "          0       0.64      0.54      0.59     15473\n",
      "          1       0.60      0.70      0.65     15427\n",
      "\n",
      "avg / total       0.62      0.62      0.62     30900\n",
      "\n"
     ]
    }
   ],
   "source": [
    "print(metrics.classification_report(y_test,y_pred))"
   ]
  },
  {
   "cell_type": "code",
   "execution_count": 125,
   "metadata": {},
   "outputs": [
    {
     "name": "stderr",
     "output_type": "stream",
     "text": [
      "/Users/admin/anaconda3/lib/python3.6/site-packages/ipykernel_launcher.py:3: DataConversionWarning: A column-vector y was passed when a 1d array was expected. Please change the shape of y to (n_samples,), for example using ravel().\n",
      "  This is separate from the ipykernel package so we can avoid doing imports until\n"
     ]
    },
    {
     "name": "stdout",
     "output_type": "stream",
     "text": [
      "             precision    recall  f1-score   support\n",
      "\n",
      "          0       0.85      0.88      0.86     15473\n",
      "          1       0.88      0.84      0.86     15427\n",
      "\n",
      "avg / total       0.86      0.86      0.86     30900\n",
      "\n"
     ]
    }
   ],
   "source": [
    "from sklearn.ensemble import RandomForestClassifier as RF\n",
    "clf = RF()\n",
    "clf.fit(X_train,y_train)\n",
    "y_pred = clf.predict(X_test)\n",
    "print(metrics.classification_report(y_test,y_pred))"
   ]
  },
  {
   "cell_type": "code",
   "execution_count": 126,
   "metadata": {},
   "outputs": [
    {
     "name": "stdout",
     "output_type": "stream",
     "text": [
      "0.8603559870550161\n",
      "[[13651  1822]\n",
      " [ 2493 12934]]\n"
     ]
    }
   ],
   "source": [
    "print(metrics.accuracy_score(y_test,y_pred))\n",
    "cm = metrics.confusion_matrix(y_test, y_pred)\n",
    "print(cm)"
   ]
  },
  {
   "cell_type": "code",
   "execution_count": 127,
   "metadata": {},
   "outputs": [
    {
     "data": {
      "text/html": [
       "<div>\n",
       "<style scoped>\n",
       "    .dataframe tbody tr th:only-of-type {\n",
       "        vertical-align: middle;\n",
       "    }\n",
       "\n",
       "    .dataframe tbody tr th {\n",
       "        vertical-align: top;\n",
       "    }\n",
       "\n",
       "    .dataframe thead th {\n",
       "        text-align: right;\n",
       "    }\n",
       "</style>\n",
       "<table border=\"1\" class=\"dataframe\">\n",
       "  <thead>\n",
       "    <tr style=\"text-align: right;\">\n",
       "      <th></th>\n",
       "      <th>features</th>\n",
       "      <th>importance</th>\n",
       "    </tr>\n",
       "  </thead>\n",
       "  <tbody>\n",
       "    <tr>\n",
       "      <th>0</th>\n",
       "      <td>card_tenure</td>\n",
       "      <td>0.397530</td>\n",
       "    </tr>\n",
       "    <tr>\n",
       "      <th>1</th>\n",
       "      <td>risk_score</td>\n",
       "      <td>0.231968</td>\n",
       "    </tr>\n",
       "    <tr>\n",
       "      <th>2</th>\n",
       "      <td>avg_bal</td>\n",
       "      <td>0.317739</td>\n",
       "    </tr>\n",
       "    <tr>\n",
       "      <th>3</th>\n",
       "      <td>geo_group_SE</td>\n",
       "      <td>0.052763</td>\n",
       "    </tr>\n",
       "  </tbody>\n",
       "</table>\n",
       "</div>"
      ],
      "text/plain": [
       "       features  importance\n",
       "0   card_tenure    0.397530\n",
       "1    risk_score    0.231968\n",
       "2       avg_bal    0.317739\n",
       "3  geo_group_SE    0.052763"
      ]
     },
     "execution_count": 127,
     "metadata": {},
     "output_type": "execute_result"
    }
   ],
   "source": [
    "featureImportance = clf.feature_importances_\n",
    "for i in range(len(featureImportance)):\n",
    "    featureImportance[i]\n",
    "feat = pd.DataFrame() \n",
    "feat[\"features\"] = feature_col_nw\n",
    "feat['importance'] = featureImportance.data\n",
    "feat"
   ]
  },
  {
   "cell_type": "code",
   "execution_count": null,
   "metadata": {},
   "outputs": [],
   "source": []
  }
 ],
 "metadata": {
  "kernelspec": {
   "display_name": "Python 3",
   "language": "python",
   "name": "python3"
  },
  "language_info": {
   "codemirror_mode": {
    "name": "ipython",
    "version": 3
   },
   "file_extension": ".py",
   "mimetype": "text/x-python",
   "name": "python",
   "nbconvert_exporter": "python",
   "pygments_lexer": "ipython3",
   "version": "3.6.4"
  }
 },
 "nbformat": 4,
 "nbformat_minor": 2
}
